{
 "cells": [
  {
   "cell_type": "markdown",
   "id": "aa9464a8",
   "metadata": {},
   "source": [
    "### Problem Description:\n",
    "\n",
    "Flair Furniture Company produces tables and chairs:\n",
    "- Each table produced results in \\\\$7 profit, each chair produced results in \\\\$5 profit.\n",
    "- Each table requires: 3 hours of carpentry and 2 hours of painting.\n",
    "- Each chair requires: 4 hours of carpentry and 1 hour of painting.\n",
    "- Available production capacity: 2,400 hours of carpentry time and 1,000 hours of painting time.\n",
    "- The marketing department wants Flair to make no more than 450 chairs.\n",
    "- The marketing department wants Flair to make at least 100 tables.\n",
    "\n",
    "Determine best possible combination of tables and chairs to manufacture in order to attain maximum\n",
    "profit.\n"
   ]
  },
  {
   "cell_type": "markdown",
   "id": "2a28e67c",
   "metadata": {},
   "source": [
    "### Problem Formulation:\n",
    "Then, the formulation is the following:\n",
    "$$\n",
    "\\begin{align}\n",
    "    \\max \\quad & 7T + 5C \\\\\n",
    "    \\text{s.t.} \\quad & 3T + 4C \\leq 2,400 \\\\\n",
    "    & 2T + C \\leq 1,000 \\\\\n",
    "    &  C \\leq 450 \\\\\n",
    "    & T \\geq 100 \\\\\n",
    "    & T,C \\in \\mathbb{R}^+\n",
    "\\end{align}\n",
    "$$\n"
   ]
  },
  {
   "cell_type": "markdown",
   "id": "da7ea71e",
   "metadata": {},
   "source": [
    "### Mathematical Optimiation\n",
    "We need to define \n",
    "- Decision Variables\n",
    "- Constraints\n",
    "- Objective Function"
   ]
  },
  {
   "cell_type": "markdown",
   "id": "c1fd7c14",
   "metadata": {},
   "source": [
    "First, we need to import the Gurobi callable library and the GRB class into the main namespace."
   ]
  },
  {
   "cell_type": "code",
   "execution_count": 1,
   "id": "255a8295",
   "metadata": {},
   "outputs": [],
   "source": [
    "import gurobipy as gp\n",
    "from gurobipy import GRB"
   ]
  },
  {
   "cell_type": "markdown",
   "id": "13063d53",
   "metadata": {},
   "source": [
    "### Declare and initialize model\n",
    "Next, we need to create an object named `model` which belongs to the class `Model`. Then we can use an optional string as our model description."
   ]
  },
  {
   "cell_type": "code",
   "execution_count": 2,
   "id": "d5dc4e72",
   "metadata": {},
   "outputs": [
    {
     "name": "stdout",
     "output_type": "stream",
     "text": [
      "Set parameter Username\n",
      "Academic license - for non-commercial use only - expires 2024-10-13\n"
     ]
    }
   ],
   "source": [
    "model = gp.Model('Flair')"
   ]
  },
  {
   "cell_type": "markdown",
   "id": "b60c0cad",
   "metadata": {},
   "source": [
    "### Define Decision Variables:\n",
    "\n",
    "We can define a variable using the method `addVar` of the model object created above.\n",
    "\n",
    "addVar ( lb=0.0, ub=float('inf'), obj=0.0, vtype=GRB.CONTINUOUS, name=\"\", column=None )\n",
    "\n",
    "Arguments:\n",
    "\n",
    "* lb (optional): Lower bound for new variable.\n",
    "\n",
    "* ub (optional): Upper bound for new variable.\n",
    "\n",
    "* obj (optional): Objective coefficient for new variable.\n",
    "\n",
    "* vtype (optional): Variable type for new variable (GRB.CONTINUOUS, GRB.BINARY, GRB.INTEGER, GRB.SEMICONT, or GRB.SEMIINT).\n"
   ]
  },
  {
   "cell_type": "code",
   "execution_count": 3,
   "id": "129cd4f7",
   "metadata": {},
   "outputs": [],
   "source": [
    "T = model.addVar(vtype=GRB.CONTINUOUS, name = \"Table\")\n",
    "C = model.addVar(vtype=GRB.CONTINUOUS, name = \"Chair\")"
   ]
  },
  {
   "cell_type": "markdown",
   "id": "0ceb9746",
   "metadata": {},
   "source": [
    "### Define the Constraints:\n",
    "\n",
    "Next, we need to define our constraints. The constraints can be entered by using method `addConstr`:\n",
    "\n",
    "addConstr ( constr, name=\"\" )"
   ]
  },
  {
   "cell_type": "code",
   "execution_count": 4,
   "id": "5126aedc",
   "metadata": {},
   "outputs": [],
   "source": [
    "Carpentry = model.addConstr( 3*T + 4*C <= 2400, \"Carpentry\")\n",
    "Paint = model.addConstr( 2*T + C <= 1000, \"Paint\")\n",
    "Max_Chair = model.addConstr( C <= 450, \"Max_Chair\")\n",
    "Min_Table = model.addConstr( T >= 100, \"Min_Table\")"
   ]
  },
  {
   "cell_type": "markdown",
   "id": "da2016d9",
   "metadata": {},
   "source": [
    "### Define Objective Function\n",
    "We can use the `setObjective` method to specify the objective function."
   ]
  },
  {
   "cell_type": "code",
   "execution_count": 5,
   "id": "26409a87",
   "metadata": {},
   "outputs": [],
   "source": [
    "model.setObjective(7*T + 5*C, GRB.MAXIMIZE)"
   ]
  },
  {
   "cell_type": "markdown",
   "id": "501350a7",
   "metadata": {},
   "source": [
    "### Print the Model\n",
    "We can use `print` function in Python with the method `display` of the `model` object to print the entire model."
   ]
  },
  {
   "cell_type": "code",
   "execution_count": 6,
   "id": "898e9baa",
   "metadata": {},
   "outputs": [
    {
     "name": "stdout",
     "output_type": "stream",
     "text": [
      "Minimize\n",
      "  0.0\n",
      "Subject To\n",
      "None\n"
     ]
    }
   ],
   "source": [
    "print (model.display())"
   ]
  },
  {
   "cell_type": "markdown",
   "id": "952e8912",
   "metadata": {},
   "source": [
    "### Write The Model to a File\n",
    "We can use `write` method to write our model to a .lp file."
   ]
  },
  {
   "cell_type": "code",
   "execution_count": 7,
   "id": "c1268326",
   "metadata": {},
   "outputs": [],
   "source": [
    "model.write('Flair.lp')"
   ]
  },
  {
   "cell_type": "markdown",
   "id": "45f6bce6",
   "metadata": {},
   "source": [
    "### Solve the Model\n",
    "Now, we are ready to solve the problem using the method `optimize` of the `model` object."
   ]
  },
  {
   "cell_type": "code",
   "execution_count": 8,
   "id": "f8f9e3b7",
   "metadata": {},
   "outputs": [
    {
     "name": "stdout",
     "output_type": "stream",
     "text": [
      "Gurobi Optimizer version 10.0.3 build v10.0.3rc0 (mac64[arm])\n",
      "\n",
      "CPU model: Apple M1\n",
      "Thread count: 8 physical cores, 8 logical processors, using up to 8 threads\n",
      "\n",
      "Optimize a model with 4 rows, 2 columns and 6 nonzeros\n",
      "Model fingerprint: 0x8a2b7a82\n",
      "Coefficient statistics:\n",
      "  Matrix range     [1e+00, 4e+00]\n",
      "  Objective range  [5e+00, 7e+00]\n",
      "  Bounds range     [0e+00, 0e+00]\n",
      "  RHS range        [1e+02, 2e+03]\n",
      "Presolve removed 2 rows and 0 columns\n",
      "Presolve time: 0.00s\n",
      "Presolved: 2 rows, 2 columns, 4 nonzeros\n",
      "\n",
      "Iteration    Objective       Primal Inf.    Dual Inf.      Time\n",
      "       0    5.6000000e+03   1.498748e+02   0.000000e+00      0s\n",
      "       2    4.0400000e+03   0.000000e+00   0.000000e+00      0s\n",
      "\n",
      "Solved in 2 iterations and 0.00 seconds (0.00 work units)\n",
      "Optimal objective  4.040000000e+03\n"
     ]
    }
   ],
   "source": [
    "model.optimize()"
   ]
  },
  {
   "cell_type": "markdown",
   "id": "1644155e",
   "metadata": {},
   "source": [
    "### Extracting the Solution\n",
    "If the problem is feasible and bounded, we can output the optimal value of the decision variables.\n",
    "\n",
    "The `.x` variable attribute is used to query solution values and the `.varName` attribute is used to query the name of the decision variables.\n"
   ]
  },
  {
   "cell_type": "code",
   "execution_count": 9,
   "id": "a152c0bf",
   "metadata": {},
   "outputs": [
    {
     "name": "stdout",
     "output_type": "stream",
     "text": [
      "Table = 320.0\n"
     ]
    }
   ],
   "source": [
    "print(T.varName, \"=\",  T.x)"
   ]
  },
  {
   "cell_type": "markdown",
   "id": "2a35b620",
   "metadata": {},
   "source": [
    "In a more general way, we can use method `getVars` of `model` object. The `model.getVars` method retrieves a list of all variables in the object `model`. "
   ]
  },
  {
   "cell_type": "code",
   "execution_count": 10,
   "id": "4a4aa4d1",
   "metadata": {},
   "outputs": [
    {
     "name": "stdout",
     "output_type": "stream",
     "text": [
      "Table 320.0\n",
      "Chair 360.0\n"
     ]
    }
   ],
   "source": [
    "for v in model.getVars():\n",
    "    if v.x > 1e-6:\n",
    "        print(v.varName, v.x)"
   ]
  },
  {
   "cell_type": "markdown",
   "id": "b9cad755",
   "metadata": {},
   "source": [
    "### Objective Function Value\n",
    "We can use method `objVal` of model `object` to find the optimal value of the objective function."
   ]
  },
  {
   "cell_type": "code",
   "execution_count": 11,
   "id": "878f75ce",
   "metadata": {},
   "outputs": [
    {
     "name": "stdout",
     "output_type": "stream",
     "text": [
      "Total profit:  4040.0\n"
     ]
    }
   ],
   "source": [
    "print('Total profit: ', model.objVal)"
   ]
  },
  {
   "cell_type": "code",
   "execution_count": 12,
   "id": "2847b048",
   "metadata": {},
   "outputs": [
    {
     "name": "stdout",
     "output_type": "stream",
     "text": [
      "[0.6, 2.6, 0.0, 0.0]\n"
     ]
    }
   ],
   "source": [
    "print(model.pi)"
   ]
  },
  {
   "cell_type": "code",
   "execution_count": 13,
   "id": "c10f046b",
   "metadata": {},
   "outputs": [
    {
     "name": "stdout",
     "output_type": "stream",
     "text": [
      "2\n"
     ]
    }
   ],
   "source": [
    "print(model.status)"
   ]
  }
 ],
 "metadata": {
  "kernelspec": {
   "display_name": "Python 3 (ipykernel)",
   "language": "python",
   "name": "python3"
  },
  "language_info": {
   "codemirror_mode": {
    "name": "ipython",
    "version": 3
   },
   "file_extension": ".py",
   "mimetype": "text/x-python",
   "name": "python",
   "nbconvert_exporter": "python",
   "pygments_lexer": "ipython3",
   "version": "3.11.5"
  }
 },
 "nbformat": 4,
 "nbformat_minor": 5
}
